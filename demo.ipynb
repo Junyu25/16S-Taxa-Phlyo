{
 "cells": [
  {
   "cell_type": "code",
   "execution_count": 5,
   "metadata": {},
   "outputs": [],
   "source": [
    "cd /mnt/d/Lab/16S-Taxa-Phlyo"
   ]
  },
  {
   "cell_type": "code",
   "execution_count": 6,
   "metadata": {},
   "outputs": [
    {
     "name": "stdout",
     "output_type": "stream",
     "text": [
      "\u001b[0m\u001b[01;32mDA_164__1492R__F06_2009041343G.ab1\u001b[0m  \u001b[01;32mDA_251__1492R__G06_2009041345G.ab1\u001b[0m\n",
      "\u001b[01;32mDA_164__1492R__F06_2009041343G.seq\u001b[0m  \u001b[01;32mDA_251__1492R__G06_2009041345G.seq\u001b[0m\n",
      "\u001b[01;32mDA_164__27F__F03_2009041343G.ab1\u001b[0m    \u001b[01;32mDA_251__27F__G03_2009041345G.ab1\u001b[0m\n",
      "\u001b[01;32mDA_164__27F__F03_2009041343G.seq\u001b[0m    \u001b[01;32mDA_251__27F__G03_2009041345G.seq\u001b[0m\n",
      "\u001b[01;32mDA_24__1492R__E06_2009041339G.ab1\u001b[0m   \u001b[01;32mDA_252__1492R__H06_2009041346G.ab1\u001b[0m\n",
      "\u001b[01;32mDA_24__1492R__E06_2009041339G.seq\u001b[0m   \u001b[01;32mDA_252__1492R__H06_2009041346G.seq\u001b[0m\n",
      "\u001b[01;32mDA_24__27F__E03_2009041339G.ab1\u001b[0m     \u001b[01;32mDA_252__27F__H03_2009041346G.ab1\u001b[0m\n",
      "\u001b[01;32mDA_24__27F__E03_2009041339G.seq\u001b[0m     \u001b[01;32mDA_252__27F__H03_2009041346G.seq\u001b[0m\n"
     ]
    }
   ],
   "source": [
    "ls ./test_data/Success"
   ]
  },
  {
   "cell_type": "code",
   "execution_count": 20,
   "metadata": {},
   "outputs": [
    {
     "name": "stdout",
     "output_type": "stream",
     "text": [
      "16\n",
      "(qiime2-2020.6) "
     ]
    },
    {
     "ename": "",
     "evalue": "1",
     "output_type": "error",
     "traceback": []
    }
   ],
   "source": [
    "ls ./test_data/Success | wc -l"
   ]
  },
  {
   "cell_type": "code",
   "execution_count": 22,
   "metadata": {},
   "outputs": [
    {
     "name": "stdout",
     "output_type": "stream",
     "text": [
      "================== TRIMMING SEQUENCES ==================\n",
      "DA_164_F\n",
      "Trimmed seq: 756 nt (46-801, 72%)\n",
      "Avg score: 57.87 (std 6.35, rng 27-61, >=30, -90)\n",
      "\n",
      "DA_164_R\n",
      "Trimmed seq: 775 nt (23-797, 72%)\n",
      "Avg score: 57.96 (std 6.52, rng 27-61, >=30, -90)\n",
      "\n",
      "DA_24_F\n",
      "Trimmed seq: 719 nt (43-761, 68%)\n",
      "Avg score: 58.55 (std 5.68, rng 24-61, >=30, -90)\n",
      "\n",
      "DA_24_R\n",
      "Trimmed seq: 783 nt (34-816, 74%)\n",
      "Avg score: 57.42 (std 7.09, rng 17-61, >=30, -90)\n",
      "\n",
      "DA_251_F\n",
      "Trimmed seq: 784 nt (26-809, 75%)\n",
      "Avg score: 56.32 (std 8.68, rng 13-61, >=30, -90)\n",
      "\n",
      "DA_251_R\n",
      "Trimmed seq: 799 nt (20-818, 77%)\n",
      "Avg score: 56.56 (std 8.26, rng 18-61, >=30, -90)\n",
      "\n",
      "DA_252_F\n",
      "Trimmed seq: 803 nt (24-826, 78%)\n",
      "Avg score: 56.13 (std 9.00, rng 14-61, >=30, -90)\n",
      "\n",
      "DA_252_R\n",
      "Trimmed seq: 796 nt (24-819, 77%)\n",
      "Avg score: 57.53 (std 6.92, rng 14-61, >=30, -90)\n",
      "\n",
      "================== MERGING SEQUENCES ===================\n",
      "DA_164_F + DA_164_R\n",
      "Merged seq: 1366 nt (fwd 46-635, fwd 636-801/rev 797-633, rev 632-23)\n",
      "Overlap: 166 nt (99.4% match, 1 indels, lost 0 fwd/0 rev)\n",
      "\n",
      "DA_24_F + DA_24_R\n",
      "Merged seq: 1378 nt (fwd 43-637, fwd 638-761/rev 816-693, rev 692-34)\n",
      "Overlap: 124 nt (100.0% match, 0 indels, lost 0 fwd/0 rev)\n",
      "\n",
      "DA_251_F + DA_251_R\n",
      "Merged seq: 1392 nt (fwd 26-618, fwd 619-809/rev 818-628, rev 627-20)\n",
      "Overlap: 191 nt (100.0% match, 0 indels, lost 0 fwd/0 rev)\n",
      "\n",
      "DA_252_F + DA_252_R\n",
      "Merged seq: 1387 nt (fwd 24-614, fwd 615-826/rev 819-608, rev 607-24)\n",
      "Overlap: 212 nt (100.0% match, 0 indels, lost 0 fwd/0 rev)\n",
      "\n",
      "(qiime2-2020.6) "
     ]
    },
    {
     "ename": "",
     "evalue": "1",
     "output_type": "error",
     "traceback": []
    }
   ],
   "source": [
    "python ./scripts/seq_quality_trimming.py -i ./test_data/Success -o ./test_out"
   ]
  },
  {
   "cell_type": "code",
   "execution_count": 23,
   "metadata": {},
   "outputs": [
    {
     "name": "stdout",
     "output_type": "stream",
     "text": [
      "total 28K\n",
      "drwxrwxrwx 1 junyu junyu 4.0K Sep  8 21:49 \u001b[0m\u001b[34;42m.\u001b[0m\n",
      "drwxrwxrwx 1 junyu junyu 4.0K Sep  8 21:48 \u001b[34;42m..\u001b[0m\n",
      "drwxrwxrwx 1 junyu junyu 4.0K Sep  8 21:49 \u001b[34;42m.ipynb_checkpoints\u001b[0m\n",
      "-rwxrwxrwx 1 junyu junyu 5.6K Sep  8 21:49 \u001b[01;32mmerged_seqs.fasta\u001b[0m\n",
      "-rwxrwxrwx 1 junyu junyu 8.5K Sep  8 21:49 \u001b[01;32mseqs.fasta\u001b[0m\n",
      "-rwxrwxrwx 1 junyu junyu 6.4K Sep  8 21:49 \u001b[01;32mtrimmed_seqs.fasta\u001b[0m\n",
      "(qiime2-2020.6) "
     ]
    },
    {
     "ename": "",
     "evalue": "1",
     "output_type": "error",
     "traceback": []
    }
   ],
   "source": [
    "ls ./test_out -alh"
   ]
  },
  {
   "cell_type": "code",
   "execution_count": 24,
   "metadata": {},
   "outputs": [
    {
     "name": "stdout",
     "output_type": "stream",
     "text": [
      "(qiime2-2020.6) "
     ]
    },
    {
     "ename": "",
     "evalue": "1",
     "output_type": "error",
     "traceback": []
    }
   ],
   "source": [
    "python ./scripts/processing-merged-seq.py ./test_out/merged_seqs.fasta"
   ]
  },
  {
   "cell_type": "code",
   "execution_count": 25,
   "metadata": {},
   "outputs": [
    {
     "name": "stdout",
     "output_type": "stream",
     "text": [
      "total 36K\n",
      "drwxrwxrwx 1 junyu junyu 4.0K Sep  8 21:49 \u001b[0m\u001b[34;42m.\u001b[0m\n",
      "drwxrwxrwx 1 junyu junyu 4.0K Sep  8 21:48 \u001b[34;42m..\u001b[0m\n",
      "drwxrwxrwx 1 junyu junyu 4.0K Sep  8 21:49 \u001b[34;42m.ipynb_checkpoints\u001b[0m\n",
      "-rwxrwxrwx 1 junyu junyu 5.6K Sep  8 21:49 \u001b[01;32mmergedSeq_clean.fasta\u001b[0m\n",
      "-rwxrwxrwx 1 junyu junyu 5.6K Sep  8 21:49 \u001b[01;32mmerged_seqs.fasta\u001b[0m\n",
      "-rwxrwxrwx 1 junyu junyu 8.5K Sep  8 21:49 \u001b[01;32mseqs.fasta\u001b[0m\n",
      "-rwxrwxrwx 1 junyu junyu 6.4K Sep  8 21:49 \u001b[01;32mtrimmed_seqs.fasta\u001b[0m\n",
      "(qiime2-2020.6) "
     ]
    },
    {
     "ename": "",
     "evalue": "1",
     "output_type": "error",
     "traceback": []
    }
   ],
   "source": [
    "ls ./test_out -alh"
   ]
  },
  {
   "cell_type": "code",
   "execution_count": 26,
   "metadata": {},
   "outputs": [
    {
     "name": "stdout",
     "output_type": "stream",
     "text": [
      "\u001b[01;31m\u001b[K>\u001b[m\u001b[KDA_164\n",
      "\u001b[01;31m\u001b[K>\u001b[m\u001b[KDA_24\n",
      "\u001b[01;31m\u001b[K>\u001b[m\u001b[KDA_251\n",
      "\u001b[01;31m\u001b[K>\u001b[m\u001b[KDA_252\n",
      "(qiime2-2020.6) "
     ]
    },
    {
     "ename": "",
     "evalue": "1",
     "output_type": "error",
     "traceback": []
    }
   ],
   "source": [
    "grep \">\" ./test_out/mergedSeq_clean.fasta"
   ]
  },
  {
   "cell_type": "code",
   "execution_count": 14,
   "metadata": {},
   "outputs": [
    {
     "name": "stdout",
     "output_type": "stream",
     "text": [
      "(qiime2-2020.6) "
     ]
    },
    {
     "ename": "",
     "evalue": "1",
     "output_type": "error",
     "traceback": []
    }
   ],
   "source": [
    "conda activate qiime2-2020.6"
   ]
  },
  {
   "cell_type": "code",
   "execution_count": 27,
   "metadata": {},
   "outputs": [
    {
     "name": "stdout",
     "output_type": "stream",
     "text": [
      "Running external command line application. This may print messages to stdout and/or stderr.\n",
      "The command being run is below. This command cannot be manually re-run as it will depend on temporary files that no longer exist.\n",
      "\n",
      "Command: vsearch --usearch_global /tmp/qiime2-archive-bmhbqoqe/1db12c8d-16db-4e74-ab6a-4671def42306/data/dna-sequences.fasta --id 0.8 --query_cov 0.8 --strand both --maxaccepts 10 --maxrejects 0 --db /tmp/qiime2-archive-qk1mzo42/a7432d0f-b5f7-409f-9daf-cd33db5de53f/data/dna-sequences.fasta --threads 8 --output_no_hits --blast6out /tmp/tmpp1kqt2b5\n",
      "\n",
      "vsearch v2.7.0_linux_x86_64, 12.4GB RAM, 8 cores\n",
      "https://github.com/torognes/vsearch\n",
      "\n",
      "Reading file /tmp/qiime2-archive-qk1mzo42/a7432d0f-b5f7-409f-9daf-cd33db5de53f/data/dna-sequences.fasta 100%  \n",
      "636194718 nt in 436680 seqs, min 900, max 3983, avg 1457\n",
      "Masking 100%  \n",
      "Counting k-mers 100%  \n",
      "Creating k-mer index 100%  \n",
      "Searching 100%  \n",
      "Matching query sequences: 4 of 4 (100.00%)\n",
      "Running external command line application. This may print messages to stdout and/or stderr.\n",
      "The command being run is below. This command cannot be manually re-run as it will depend on temporary files that no longer exist.\n",
      "\n",
      "Command: mafft --preservecase --inputorder --thread 8 /tmp/qiime2-archive-bmhbqoqe/1db12c8d-16db-4e74-ab6a-4671def42306/data/dna-sequences.fasta\n",
      "\n",
      "inputfile = orig\n",
      "4 x 1392 - 1366 d\n",
      "nthread = 8\n",
      "nthreadpair = 8\n",
      "nthreadtb = 8\n",
      "ppenalty_ex = 0\n",
      "stacksize: 8192 kb\n",
      "generating a scoring matrix for nucleotide (dist=200) ... done\n",
      "Gap Penalty = -1.53, +0.00, +0.00\n",
      "\n",
      "\n",
      "\n",
      "Making a distance matrix ..\n",
      "    1 / 4 (thread    0)\n",
      "done.\n",
      "\n",
      "Constructing a UPGMA tree (efffree=0) ... \n",
      "    0 / 4\n",
      "done.\n",
      "\n",
      "Progressive alignment 1/2... \n",
      "STEP     2 / 3 (thread    3)\n",
      "Reallocating..done. *alloclen = 3839\n",
      "STEP     3 / 3 (thread    0)\n",
      "done.\n",
      "\n",
      "Making a distance matrix from msa.. \n",
      "    0 / 4 (thread    0)\n",
      "done.\n",
      "\n",
      "Constructing a UPGMA tree (efffree=1) ... \n",
      "    0 / 4\n",
      "done.\n",
      "\n",
      "Progressive alignment 2/2... \n",
      "STEP     2 / 3 (thread    1)\n",
      "Reallocating..done. *alloclen = 3839\n",
      "STEP     3 / 3 (thread    2)\n",
      "done.\n",
      "\n",
      "disttbfast (nuc) Version 7.470\n",
      "alg=A, model=DNA200 (2), 1.53 (4.59), -0.00 (-0.00), noshift, amax=0.0\n",
      "8 thread(s)\n",
      "\n",
      "\n",
      "Strategy:\n",
      " FFT-NS-2 (Fast but rough)\n",
      " Progressive method (guide trees were built 2 times.)\n",
      "\n",
      "If unsure which option to use, try 'mafft --auto input > output'.\n",
      "For more information, see 'mafft --help', 'mafft --man' and the mafft page.\n",
      "\n",
      "The default gap scoring scheme has been changed in version 7.110 (2013 Oct).\n",
      "It tends to insert more gaps into gap-rich regions than previous versions.\n",
      "To disable this change, add the --leavegappyregion option.\n",
      "\n",
      "Running external command line application. This may print messages to stdout and/or stderr.\n",
      "The command being run is below. This command cannot be manually re-run as it will depend on temporary files that no longer exist.\n",
      "\n",
      "Command: FastTreeMP -quote -nt /tmp/qiime2-archive-0vig19cb/b720db9f-695b-41aa-9968-e2c0f2e30d1a/data/aligned-dna-sequences.fasta\n",
      "\n",
      "FastTree Version 2.1.10 Double precision (No SSE3), OpenMP (8 threads)\n",
      "Alignment: /tmp/qiime2-archive-0vig19cb/b720db9f-695b-41aa-9968-e2c0f2e30d1a/data/aligned-dna-sequences.fasta\n",
      "Nucleotide distances: Jukes-Cantor Joins: balanced Support: SH-like 1000\n",
      "Search: Normal +NNI +SPR (2 rounds range 10) +ML-NNI opt-each=1\n",
      "TopHits: 1.00*sqrtN close=default refresh=0.80\n",
      "ML Model: Jukes-Cantor, CAT approximation with 20 rate categories\n",
      "Initial topology in 0.01 seconds\n",
      "Refining topology: 8 rounds ME-NNIs, 2 rounds ME-SPRs, 4 rounds ML-NNIs\n",
      "Total branch-length 0.498 after 0.02 sec\n",
      "ML-NNI round 1: LogLk = -4618.637 NNIs 0 max delta 0.00 Time 0.02\n",
      "Switched to using 20 rate categories (CAT approximation)\n",
      "Rate categories were divided by 0.733 so that average rate = 1.0\n",
      "CAT-based log-likelihoods may not be comparable across runs\n",
      "Use -gamma for approximate but comparable Gamma(20) log-likelihoods\n",
      "ML-NNI round 2: LogLk = -4424.402 NNIs 0 max delta 0.00 Time 0.03\n",
      "Turning off heuristics for final round of ML NNIs (converged)\n",
      "ML-NNI round 3: LogLk = -4424.399 NNIs 0 max delta 0.00 Time 0.04 (final)\n",
      "Optimize all lengths: LogLk = -4424.399 Time 0.05\n",
      "Total time: 0.11 seconds Unique: 4/4 Bad splits: 0/1\n",
      "(qiime2-2020.6) "
     ]
    },
    {
     "ename": "",
     "evalue": "1",
     "output_type": "error",
     "traceback": []
    }
   ],
   "source": [
    "python ./scripts/16S-Taxa-Phylo-Pipeline.py -i ./test_out/mergedSeq_clean.fasta -o ./test_out"
   ]
  },
  {
   "cell_type": "code",
   "execution_count": 28,
   "metadata": {},
   "outputs": [
    {
     "name": "stdout",
     "output_type": "stream",
     "text": [
      "Feature ID\tTaxon\tConsensus\n",
      "DA_164\td__Bacteria; p__Firmicutes; c__Clostridia; o__Lachnospirales; f__Lachnospiraceae; g__Lachnoclostridium\t1.0\n",
      "DA_252\td__Bacteria; p__Bacteroidota; c__Bacteroidia; o__Bacteroidales; f__Marinifilaceae; g__Odoribacter\t1.0\n",
      "DA_24\td__Bacteria; p__Firmicutes; c__Bacilli; o__Bacillales; f__Bacillaceae; g__Bacillus\t1.0\n",
      "DA_251\td__Bacteria; p__Bacteroidota; c__Bacteroidia; o__Bacteroidales; f__Barnesiellaceae; g__Barnesiella\t1.0\n",
      "(qiime2-2020.6) "
     ]
    },
    {
     "ename": "",
     "evalue": "1",
     "output_type": "error",
     "traceback": []
    }
   ],
   "source": [
    "cat ./test_out/taxonomy.tsv"
   ]
  },
  {
   "cell_type": "code",
   "execution_count": null,
   "metadata": {},
   "outputs": [],
   "source": []
  }
 ],
 "metadata": {
  "kernelspec": {
   "display_name": "Bash",
   "language": "bash",
   "name": "bash"
  },
  "language_info": {
   "codemirror_mode": "shell",
   "file_extension": ".sh",
   "mimetype": "text/x-sh",
   "name": "bash"
  }
 },
 "nbformat": 4,
 "nbformat_minor": 4
}
