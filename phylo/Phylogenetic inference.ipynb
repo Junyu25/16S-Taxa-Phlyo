{
 "cells": [
  {
   "cell_type": "code",
   "execution_count": 5,
   "metadata": {},
   "outputs": [
    {
     "name": "stdout",
     "output_type": "stream",
     "text": [
      "(qiime2-2020.6) "
     ]
    },
    {
     "ename": "",
     "evalue": "1",
     "output_type": "error",
     "traceback": []
    }
   ],
   "source": [
    "conda activate qiime2-2020.6"
   ]
  },
  {
   "cell_type": "code",
   "execution_count": 1,
   "metadata": {},
   "outputs": [],
   "source": [
    "mkdir qiime2-phylogeny-tutorial\n",
    "cd qiime2-phylogeny-tutorial"
   ]
  },
  {
   "cell_type": "code",
   "execution_count": 2,
   "metadata": {},
   "outputs": [
    {
     "name": "stdout",
     "output_type": "stream",
     "text": [
      "--2020-08-13 20:26:51--  https://data.qiime2.org/2020.6/tutorials/phylogeny/rep-seqs.qza\n",
      "Resolving data.qiime2.org (data.qiime2.org)... 52.35.38.247\n",
      "Connecting to data.qiime2.org (data.qiime2.org)|52.35.38.247|:443... connected.\n",
      "HTTP request sent, awaiting response... 302 FOUND\n",
      "Location: https://qiime2-data.s3-us-west-2.amazonaws.com/2020.6/tutorials/phylogeny/rep-seqs.qza [following]\n",
      "--2020-08-13 20:26:56--  https://qiime2-data.s3-us-west-2.amazonaws.com/2020.6/tutorials/phylogeny/rep-seqs.qza\n",
      "Resolving qiime2-data.s3-us-west-2.amazonaws.com (qiime2-data.s3-us-west-2.amazonaws.com)... 52.218.201.137\n",
      "Connecting to qiime2-data.s3-us-west-2.amazonaws.com (qiime2-data.s3-us-west-2.amazonaws.com)|52.218.201.137|:443... connected.\n",
      "HTTP request sent, awaiting response... 200 OK\n",
      "Length: 21834 (21K) [binary/octet-stream]\n",
      "Saving to: ‘rep-seqs.qza’\n",
      "\n",
      "rep-seqs.qza        100%[===================>]  21.32K  89.6KB/s    in 0.2s    \n",
      "\n",
      "2020-08-13 20:26:58 (89.6 KB/s) - ‘rep-seqs.qza’ saved [21834/21834]\n",
      "\n"
     ]
    }
   ],
   "source": [
    "wget \\\n",
    "  -O \"rep-seqs.qza\" \\\n",
    "  \"https://data.qiime2.org/2020.6/tutorials/phylogeny/rep-seqs.qza\""
   ]
  },
  {
   "cell_type": "markdown",
   "metadata": {},
   "source": [
    "### Sequence Alignment"
   ]
  },
  {
   "cell_type": "code",
   "execution_count": 6,
   "metadata": {},
   "outputs": [
    {
     "name": "stdout",
     "output_type": "stream",
     "text": [
      "\u001b[32mSaved FeatureData[AlignedSequence] to: aligned-rep-seqs.qza\u001b[0m\n",
      "(qiime2-2020.6) "
     ]
    },
    {
     "ename": "",
     "evalue": "1",
     "output_type": "error",
     "traceback": []
    }
   ],
   "source": [
    "qiime alignment mafft \\\n",
    "  --i-sequences rep-seqs.qza \\\n",
    "  --o-alignment aligned-rep-seqs.qza"
   ]
  },
  {
   "cell_type": "markdown",
   "metadata": {},
   "source": [
    "### Reducing alignment ambiguity: masking and reference alignments"
   ]
  },
  {
   "cell_type": "code",
   "execution_count": 7,
   "metadata": {},
   "outputs": [
    {
     "name": "stdout",
     "output_type": "stream",
     "text": [
      "\u001b[32mSaved FeatureData[AlignedSequence] to: masked-aligned-rep-seqs.qza\u001b[0m\n",
      "(qiime2-2020.6) "
     ]
    },
    {
     "ename": "",
     "evalue": "1",
     "output_type": "error",
     "traceback": []
    }
   ],
   "source": [
    "qiime alignment mask \\\n",
    "  --i-alignment aligned-rep-seqs.qza \\\n",
    "  --o-masked-alignment masked-aligned-rep-seqs.qza"
   ]
  },
  {
   "cell_type": "markdown",
   "metadata": {},
   "source": [
    "### Construct a phylogeny"
   ]
  },
  {
   "cell_type": "code",
   "execution_count": 8,
   "metadata": {},
   "outputs": [
    {
     "name": "stdout",
     "output_type": "stream",
     "text": [
      "\u001b[32mSaved Phylogeny[Unrooted] to: fasttree-tree.qza\u001b[0m\n",
      "(qiime2-2020.6) "
     ]
    },
    {
     "ename": "",
     "evalue": "1",
     "output_type": "error",
     "traceback": []
    }
   ],
   "source": [
    "qiime phylogeny fasttree \\\n",
    "  --i-alignment masked-aligned-rep-seqs.qza \\\n",
    "  --o-tree fasttree-tree.qza"
   ]
  },
  {
   "cell_type": "code",
   "execution_count": 9,
   "metadata": {
    "collapsed": true,
    "jupyter": {
     "outputs_hidden": true
    }
   },
   "outputs": [
    {
     "name": "stdout",
     "output_type": "stream",
     "text": [
      "Running external command line application. This may print messages to stdout and/or stderr.\n",
      "The command being run is below. This command cannot be manually re-run as it will depend on temporary files that no longer exist.\n",
      "\n",
      "Command: raxmlHPC -m GTRCAT -p 4406 -N 1 -s /tmp/qiime2-archive-vly5x4qw/edbc0568-f581-4cdc-bc24-a4e2d3eb9d47/data/aligned-dna-sequences.fasta -w /tmp/tmp4n6x684w -n q2\n",
      "\n",
      "Warning, you specified a working directory via \"-w\"\n",
      "Keep in mind that RAxML only accepts absolute path names, not relative ones!\n",
      "\n",
      "RAxML can't, parse the alignment file as phylip file \n",
      "it will now try to parse it as FASTA file\n",
      "\n",
      "\n",
      "\n",
      "Using BFGS method to optimize GTR rate parameters, to disable this specify \"--no-bfgs\" \n",
      "\n",
      "\n",
      "\n",
      "This is RAxML version 8.2.12 released by Alexandros Stamatakis on May 2018.\n",
      "\n",
      "With greatly appreciated code contributions by:\n",
      "Andre Aberer      (HITS)\n",
      "Simon Berger      (HITS)\n",
      "Alexey Kozlov     (HITS)\n",
      "Kassian Kobert    (HITS)\n",
      "David Dao         (KIT and HITS)\n",
      "Sarah Lutteropp   (KIT and HITS)\n",
      "Nick Pattengale   (Sandia)\n",
      "Wayne Pfeiffer    (SDSC)\n",
      "Akifumi S. Tanabe (NRIFS)\n",
      "Charlie Taylor    (UF)\n",
      "\n",
      "\n",
      "Alignment has 157 distinct alignment patterns\n",
      "\n",
      "Proportion of gaps and completely undetermined characters in this alignment: 39.77%\n",
      "\n",
      "RAxML rapid hill-climbing mode\n",
      "\n",
      "Using 1 distinct models/data partitions with joint branch length optimization\n",
      "\n",
      "\n",
      "Executing 1 inferences on the original alignment using 1 distinct randomized MP trees\n",
      "\n",
      "All free model parameters will be estimated by RAxML\n",
      "ML estimate of 25 per site rate categories\n",
      "\n",
      "Likelihood of final tree will be evaluated and optimized under GAMMA\n",
      "\n",
      "GAMMA Model parameters will be estimated up to an accuracy of 0.1000000000 Log Likelihood units\n",
      "\n",
      "Partition: 0\n",
      "Alignment Patterns: 157\n",
      "Name: No Name Provided\n",
      "DataType: DNA\n",
      "Substitution Matrix: GTR\n",
      "\n",
      "\n",
      "\n",
      "\n",
      "RAxML was called as follows:\n",
      "\n",
      "raxmlHPC -m GTRCAT -p 4406 -N 1 -s /tmp/qiime2-archive-vly5x4qw/edbc0568-f581-4cdc-bc24-a4e2d3eb9d47/data/aligned-dna-sequences.fasta -w /tmp/tmp4n6x684w -n q2 \n",
      "\n",
      "\n",
      "Partition: 0 with name: No Name Provided\n",
      "Base frequencies: 0.243 0.182 0.319 0.256 \n",
      "\n",
      "Inference[0]: Time 0.752583 CAT-based likelihood -1243.089531, best rearrangement setting 5\n",
      "\n",
      "\n",
      "Conducting final model optimizations on all 1 trees under GAMMA-based models ....\n",
      "\n",
      "Inference[0] final GAMMA-based Likelihood: -1387.901990 tree written to file /tmp/tmp4n6x684w/RAxML_result.q2\n",
      "\n",
      "\n",
      "Starting final GAMMA-based thorough Optimization on tree 0 likelihood -1387.901990 .... \n",
      "\n",
      "Final GAMMA-based Score of best tree -1387.225179\n",
      "\n",
      "Program execution info written to /tmp/tmp4n6x684w/RAxML_info.q2\n",
      "Best-scoring ML tree written to: /tmp/tmp4n6x684w/RAxML_bestTree.q2\n",
      "\n",
      "Overall execution time: 1.507866 secs or 0.000419 hours or 0.000017 days\n",
      "\n",
      "\u001b[32mSaved Phylogeny[Unrooted] to: raxml-cat-tree.qza\u001b[0m\n",
      "(qiime2-2020.6) "
     ]
    },
    {
     "ename": "",
     "evalue": "1",
     "output_type": "error",
     "traceback": []
    }
   ],
   "source": [
    "qiime phylogeny raxml \\\n",
    "  --i-alignment masked-aligned-rep-seqs.qza \\\n",
    "  --p-substitution-model GTRCAT \\\n",
    "  --o-tree raxml-cat-tree.qza \\\n",
    "  --verbose"
   ]
  },
  {
   "cell_type": "code",
   "execution_count": 10,
   "metadata": {
    "collapsed": true,
    "jupyter": {
     "outputs_hidden": true
    }
   },
   "outputs": [
    {
     "name": "stdout",
     "output_type": "stream",
     "text": [
      "Running external command line application. This may print messages to stdout and/or stderr.\n",
      "The command being run is below. This command cannot be manually re-run as it will depend on temporary files that no longer exist.\n",
      "\n",
      "Command: raxmlHPC -m GTRCAT -p 1723 -N 5 -s /tmp/qiime2-archive-0l39hjvs/edbc0568-f581-4cdc-bc24-a4e2d3eb9d47/data/aligned-dna-sequences.fasta -w /tmp/tmp2bgrq9nj -n q2\n",
      "\n",
      "Warning, you specified a working directory via \"-w\"\n",
      "Keep in mind that RAxML only accepts absolute path names, not relative ones!\n",
      "\n",
      "RAxML can't, parse the alignment file as phylip file \n",
      "it will now try to parse it as FASTA file\n",
      "\n",
      "\n",
      "\n",
      "Using BFGS method to optimize GTR rate parameters, to disable this specify \"--no-bfgs\" \n",
      "\n",
      "\n",
      "\n",
      "This is RAxML version 8.2.12 released by Alexandros Stamatakis on May 2018.\n",
      "\n",
      "With greatly appreciated code contributions by:\n",
      "Andre Aberer      (HITS)\n",
      "Simon Berger      (HITS)\n",
      "Alexey Kozlov     (HITS)\n",
      "Kassian Kobert    (HITS)\n",
      "David Dao         (KIT and HITS)\n",
      "Sarah Lutteropp   (KIT and HITS)\n",
      "Nick Pattengale   (Sandia)\n",
      "Wayne Pfeiffer    (SDSC)\n",
      "Akifumi S. Tanabe (NRIFS)\n",
      "Charlie Taylor    (UF)\n",
      "\n",
      "\n",
      "Alignment has 157 distinct alignment patterns\n",
      "\n",
      "Proportion of gaps and completely undetermined characters in this alignment: 39.77%\n",
      "\n",
      "RAxML rapid hill-climbing mode\n",
      "\n",
      "Using 1 distinct models/data partitions with joint branch length optimization\n",
      "\n",
      "\n",
      "Executing 5 inferences on the original alignment using 5 distinct randomized MP trees\n",
      "\n",
      "All free model parameters will be estimated by RAxML\n",
      "ML estimate of 25 per site rate categories\n",
      "\n",
      "Likelihood of final tree will be evaluated and optimized under GAMMA\n",
      "\n",
      "GAMMA Model parameters will be estimated up to an accuracy of 0.1000000000 Log Likelihood units\n",
      "\n",
      "Partition: 0\n",
      "Alignment Patterns: 157\n",
      "Name: No Name Provided\n",
      "DataType: DNA\n",
      "Substitution Matrix: GTR\n",
      "\n",
      "\n",
      "\n",
      "\n",
      "RAxML was called as follows:\n",
      "\n",
      "raxmlHPC -m GTRCAT -p 1723 -N 5 -s /tmp/qiime2-archive-0l39hjvs/edbc0568-f581-4cdc-bc24-a4e2d3eb9d47/data/aligned-dna-sequences.fasta -w /tmp/tmp2bgrq9nj -n q2 \n",
      "\n",
      "\n",
      "Partition: 0 with name: No Name Provided\n",
      "Base frequencies: 0.243 0.182 0.319 0.256 \n",
      "\n",
      "Inference[0]: Time 0.837292 CAT-based likelihood -1238.242991, best rearrangement setting 5\n",
      "Inference[1]: Time 0.566171 CAT-based likelihood -1249.502284, best rearrangement setting 5\n",
      "Inference[2]: Time 0.633555 CAT-based likelihood -1242.978035, best rearrangement setting 5\n",
      "Inference[3]: Time 0.804632 CAT-based likelihood -1243.159855, best rearrangement setting 5\n",
      "Inference[4]: Time 0.581188 CAT-based likelihood -1261.321621, best rearrangement setting 5\n",
      "\n",
      "\n",
      "Conducting final model optimizations on all 5 trees under GAMMA-based models ....\n",
      "\n",
      "Inference[0] final GAMMA-based Likelihood: -1388.329302 tree written to file /tmp/tmp2bgrq9nj/RAxML_result.q2.RUN.0\n",
      "Inference[1] final GAMMA-based Likelihood: -1392.865264 tree written to file /tmp/tmp2bgrq9nj/RAxML_result.q2.RUN.1\n",
      "Inference[2] final GAMMA-based Likelihood: -1388.067345 tree written to file /tmp/tmp2bgrq9nj/RAxML_result.q2.RUN.2\n",
      "Inference[3] final GAMMA-based Likelihood: -1387.937945 tree written to file /tmp/tmp2bgrq9nj/RAxML_result.q2.RUN.3\n",
      "Inference[4] final GAMMA-based Likelihood: -1387.541026 tree written to file /tmp/tmp2bgrq9nj/RAxML_result.q2.RUN.4\n",
      "\n",
      "\n",
      "Starting final GAMMA-based thorough Optimization on tree 4 likelihood -1387.541026 .... \n",
      "\n",
      "Final GAMMA-based Score of best tree -1387.370848\n",
      "\n",
      "Program execution info written to /tmp/tmp2bgrq9nj/RAxML_info.q2\n",
      "Best-scoring ML tree written to: /tmp/tmp2bgrq9nj/RAxML_bestTree.q2\n",
      "\n",
      "Overall execution time: 4.294988 secs or 0.001193 hours or 0.000050 days\n",
      "\n",
      "\u001b[32mSaved Phylogeny[Unrooted] to: raxml-cat-searches-tree.qza\u001b[0m\n",
      "(qiime2-2020.6) "
     ]
    },
    {
     "ename": "",
     "evalue": "1",
     "output_type": "error",
     "traceback": []
    }
   ],
   "source": [
    "qiime phylogeny raxml \\\n",
    "  --i-alignment masked-aligned-rep-seqs.qza \\\n",
    "  --p-substitution-model GTRCAT \\\n",
    "  --p-seed 1723 \\\n",
    "  --p-n-searches 5 \\\n",
    "  --o-tree raxml-cat-searches-tree.qza \\\n",
    "  --verbose"
   ]
  },
  {
   "cell_type": "code",
   "execution_count": null,
   "metadata": {},
   "outputs": [],
   "source": []
  },
  {
   "cell_type": "code",
   "execution_count": null,
   "metadata": {},
   "outputs": [],
   "source": []
  },
  {
   "cell_type": "code",
   "execution_count": 11,
   "metadata": {},
   "outputs": [
    {
     "name": "stdout",
     "output_type": "stream",
     "text": [
      "\u001b[32mSaved FeatureData[AlignedSequence] to: mafft-fasttree-output/alignment.qza\u001b[0m\n",
      "\u001b[32mSaved FeatureData[AlignedSequence] to: mafft-fasttree-output/masked_alignment.qza\u001b[0m\n",
      "\u001b[32mSaved Phylogeny[Unrooted] to: mafft-fasttree-output/tree.qza\u001b[0m\n",
      "\u001b[32mSaved Phylogeny[Rooted] to: mafft-fasttree-output/rooted_tree.qza\u001b[0m\n",
      "(qiime2-2020.6) "
     ]
    },
    {
     "ename": "",
     "evalue": "1",
     "output_type": "error",
     "traceback": []
    }
   ],
   "source": [
    "qiime phylogeny align-to-tree-mafft-fasttree \\\n",
    "  --i-sequences rep-seqs.qza \\\n",
    "  --output-dir mafft-fasttree-output"
   ]
  },
  {
   "cell_type": "code",
   "execution_count": null,
   "metadata": {},
   "outputs": [],
   "source": []
  }
 ],
 "metadata": {
  "kernelspec": {
   "display_name": "Bash",
   "language": "bash",
   "name": "bash"
  },
  "language_info": {
   "codemirror_mode": "shell",
   "file_extension": ".sh",
   "mimetype": "text/x-sh",
   "name": "bash"
  }
 },
 "nbformat": 4,
 "nbformat_minor": 4
}
