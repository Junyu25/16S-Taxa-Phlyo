{
 "cells": [
  {
   "cell_type": "code",
   "execution_count": null,
   "metadata": {},
   "outputs": [],
   "source": []
  },
  {
   "cell_type": "code",
   "execution_count": 3,
   "metadata": {},
   "outputs": [],
   "source": [
    "from qiime2 import Artifact"
   ]
  },
  {
   "cell_type": "code",
   "execution_count": 2,
   "metadata": {},
   "outputs": [],
   "source": [
    "from qiime2.plugins.phylogeny.pipelines import align_to_tree_mafft_fasttree"
   ]
  },
  {
   "cell_type": "code",
   "execution_count": 2,
   "metadata": {},
   "outputs": [],
   "source": [
    "from qiime2.plugins.feature_classifier.methods import classify_consensus_vsearch"
   ]
  },
  {
   "cell_type": "code",
   "execution_count": 4,
   "metadata": {},
   "outputs": [],
   "source": [
    "artifact = Artifact.import_data('FeatureData[Sequence]',\n",
    "                                '/mnt/d/Lab/TaxaIdentification/16S-out-1.fasta'\n",
    "                                )"
   ]
  },
  {
   "cell_type": "code",
   "execution_count": 7,
   "metadata": {},
   "outputs": [],
   "source": [
    "reference_reads =  Artifact.load(\"/mnt/d/Lab/TaxaIdentification/classifier/silva-138-99-seqs.qza\")"
   ]
  },
  {
   "cell_type": "code",
   "execution_count": 8,
   "metadata": {},
   "outputs": [],
   "source": [
    "reference_taxonomy = Artifact.load(\"/mnt/d/Lab/TaxaIdentification/classifier/silva-138-99-tax.qza\")"
   ]
  },
  {
   "cell_type": "markdown",
   "metadata": {},
   "source": [
    "```shell\n",
    "qiime feature-classifier classify-consensus-vsearch \\\n",
    "    --i-query All-16S.qza \\\n",
    "    --i-reference-reads classifier/silva-138-99-seqs.qza \\\n",
    "    --i-reference-taxonomy classifier/silva-138-99-tax.qza \\\n",
    "    --o-classification All-16S-out.qza\n",
    "     --p-threads 8\n",
    "```    "
   ]
  },
  {
   "cell_type": "code",
   "execution_count": null,
   "metadata": {
    "collapsed": true,
    "jupyter": {
     "outputs_hidden": true
    }
   },
   "outputs": [
    {
     "name": "stdout",
     "output_type": "stream",
     "text": [
      "Running external command line application. This may print messages to stdout and/or stderr.\n",
      "The command being run is below. This command cannot be manually re-run as it will depend on temporary files that no longer exist.\n",
      "\n",
      "Command: vsearch --usearch_global /tmp/qiime2-archive-6s0yxzje/9ca0304d-720c-4071-a444-f6d46dfd28ed/data/dna-sequences.fasta --id 0.8 --query_cov 0.8 --strand both --maxaccepts 10 --maxrejects 0 --db /tmp/qiime2-archive-sm3mm9qa/a7432d0f-b5f7-409f-9daf-cd33db5de53f/data/dna-sequences.fasta --threads 8 --output_no_hits --blast6out /tmp/tmp_uuk7m3y\n",
      "\n"
     ]
    }
   ],
   "source": [
    "taxonomy = classify_consensus_vsearch(artifact, \n",
    "                           reference_reads,\n",
    "                           reference_taxonomy,\n",
    "                           threads = 20)"
   ]
  },
  {
   "cell_type": "code",
   "execution_count": null,
   "metadata": {},
   "outputs": [],
   "source": []
  },
  {
   "cell_type": "markdown",
   "metadata": {},
   "source": [
    "import the taxa seq"
   ]
  },
  {
   "cell_type": "code",
   "execution_count": 4,
   "metadata": {},
   "outputs": [],
   "source": [
    "artifact = Artifact.import_data('FeatureData[Sequence]',\n",
    "                                '/mnt/d/Lab/TaxaIdentification/16S-out-1.fasta'\n",
    "                                )"
   ]
  },
  {
   "cell_type": "code",
   "execution_count": 5,
   "metadata": {
    "collapsed": true,
    "jupyter": {
     "outputs_hidden": true
    }
   },
   "outputs": [
    {
     "name": "stdout",
     "output_type": "stream",
     "text": [
      "Running external command line application. This may print messages to stdout and/or stderr.\n",
      "The command being run is below. This command cannot be manually re-run as it will depend on temporary files that no longer exist.\n",
      "\n",
      "Command: mafft --preservecase --inputorder --thread 4 /tmp/qiime2-archive-iutj9pri/d47c89f4-6812-4b69-827c-4c4823c1409e/data/dna-sequences.fasta\n",
      "\n",
      "Running external command line application. This may print messages to stdout and/or stderr.\n",
      "The command being run is below. This command cannot be manually re-run as it will depend on temporary files that no longer exist.\n",
      "\n",
      "Command: FastTreeMP -quote -nt /tmp/qiime2-archive-z2mu74h_/4aa1554f-56ce-4b4f-9953-c66a8485d4ca/data/aligned-dna-sequences.fasta\n",
      "\n"
     ]
    }
   ],
   "source": [
    "mafft_alignment = align_to_tree_mafft_fasttree(artifact, 4 )"
   ]
  },
  {
   "cell_type": "code",
   "execution_count": 15,
   "metadata": {},
   "outputs": [],
   "source": [
    " (mafft_alignment.tree, \"/mnt/d/Lab/Qiime2/qiime2-phylogeny-api\")"
   ]
  }
 ],
 "metadata": {
  "kernelspec": {
   "display_name": "Python 3",
   "language": "python",
   "name": "python3"
  },
  "language_info": {
   "codemirror_mode": {
    "name": "ipython",
    "version": 3
   },
   "file_extension": ".py",
   "mimetype": "text/x-python",
   "name": "python",
   "nbconvert_exporter": "python",
   "pygments_lexer": "ipython3",
   "version": "3.8.5"
  }
 },
 "nbformat": 4,
 "nbformat_minor": 4
}
