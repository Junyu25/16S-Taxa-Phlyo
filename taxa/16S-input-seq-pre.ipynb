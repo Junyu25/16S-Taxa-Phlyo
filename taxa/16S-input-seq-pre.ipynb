{
 "cells": [
  {
   "cell_type": "code",
   "execution_count": 17,
   "metadata": {},
   "outputs": [],
   "source": [
    "from Bio import SeqIO"
   ]
  },
  {
   "cell_type": "code",
   "execution_count": 18,
   "metadata": {},
   "outputs": [],
   "source": [
    "fasta = \"/mnt/d/Lab/16S-Taxa-Phlyo/test_out/merged_seqs.fasta\""
   ]
  },
  {
   "cell_type": "code",
   "execution_count": 28,
   "metadata": {},
   "outputs": [],
   "source": [
    "mergedSeq = []"
   ]
  },
  {
   "cell_type": "code",
   "execution_count": 29,
   "metadata": {},
   "outputs": [],
   "source": [
    "for seq in SeqIO.parse(fasta, \"fasta\"):\n",
    "    #print(seq.description)\n",
    "    if \"(merged)\" in seq.description:\n",
    "        seq.id = seq.id.split(\",\")[0].replace(\"_F\", \"\")\n",
    "        seq.name = seq.description\n",
    "        seq.description = \"\"\n",
    "        mergedSeq.append(seq)"
   ]
  },
  {
   "cell_type": "code",
   "execution_count": 30,
   "metadata": {},
   "outputs": [
    {
     "data": {
      "text/plain": [
       "8"
      ]
     },
     "execution_count": 30,
     "metadata": {},
     "output_type": "execute_result"
    }
   ],
   "source": [
    "len(mergedSeq)"
   ]
  },
  {
   "cell_type": "code",
   "execution_count": 31,
   "metadata": {},
   "outputs": [
    {
     "data": {
      "text/plain": [
       "[SeqRecord(seq=Seq('ATGAAGTTTTCGGATGGATTCTGAGATGACTGAGTGGCGGACGGGTGAGTAACA...GGA', SingleLetterAlphabet()), id='DA_164', name='DA_164_F, DA_164_R (merged)', description='', dbxrefs=[]),\n",
       " SeqRecord(seq=Seq('ATGAAGTTTTCGGATGGATTCTGAGATGACTGAGTGGCGGACGGGTGAGTAACA...GGA', SingleLetterAlphabet()), id='DA_164', name='DA_164_F, DA_164_R (merged)', description='', dbxrefs=[]),\n",
       " SeqRecord(seq=Seq('AGAGCTTGCTCTCAAGAAGTTAGCGGCGGACGGGTGAGTAACACGTGGGTAACC...GTA', SingleLetterAlphabet()), id='DA_24', name='DA_24_F, DA_24_R (merged)', description='', dbxrefs=[]),\n",
       " SeqRecord(seq=Seq('AGAGCTTGCTCTCAAGAAGTTAGCGGCGGACGGGTGAGTAACACGTGGGTAACC...GTA', SingleLetterAlphabet()), id='DA_24', name='DA_24_F, DA_24_R (merged)', description='', dbxrefs=[]),\n",
       " SeqRecord(seq=Seq('GTCGAGGGGCAGCGGAGAGGTAGCAATACCTTTGCCGGCGACCGGCGCACGGGT...AGC', SingleLetterAlphabet()), id='DA_251', name='DA_251_F, DA_251_R (merged)', description='', dbxrefs=[]),\n",
       " SeqRecord(seq=Seq('GTCGAGGGGCAGCGGAGAGGTAGCAATACCTTTGCCGGCGACCGGCGCACGGGT...AGC', SingleLetterAlphabet()), id='DA_251', name='DA_251_F, DA_251_R (merged)', description='', dbxrefs=[]),\n",
       " SeqRecord(seq=Seq('AGTCGAGGGGCAGCATGGTCAGTAGCAATACCGACTGATGGCGACCGGCGCACG...AGG', SingleLetterAlphabet()), id='DA_252', name='DA_252_F, DA_252_R (merged)', description='', dbxrefs=[]),\n",
       " SeqRecord(seq=Seq('AGTCGAGGGGCAGCATGGTCAGTAGCAATACCGACTGATGGCGACCGGCGCACG...AGG', SingleLetterAlphabet()), id='DA_252', name='DA_252_F, DA_252_R (merged)', description='', dbxrefs=[])]"
      ]
     },
     "execution_count": 31,
     "metadata": {},
     "output_type": "execute_result"
    }
   ],
   "source": [
    "mergedSeq"
   ]
  },
  {
   "cell_type": "code",
   "execution_count": 32,
   "metadata": {},
   "outputs": [
    {
     "data": {
      "text/plain": [
       "8"
      ]
     },
     "execution_count": 32,
     "metadata": {},
     "output_type": "execute_result"
    }
   ],
   "source": [
    "SeqIO.write(mergedSeq, \"/mnt/d/Lab/16S-Taxa-Phlyo/test_out/mergedSeq_clean.fasta\", \"fasta\")"
   ]
  },
  {
   "cell_type": "code",
   "execution_count": 37,
   "metadata": {},
   "outputs": [
    {
     "data": {
      "text/plain": [
       "('/mnt/d/Lab/16S-Taxa-Phlyo/test_out', 'merged_seqs.fasta')"
      ]
     },
     "execution_count": 37,
     "metadata": {},
     "output_type": "execute_result"
    }
   ],
   "source": [
    "os.path.split(fasta)"
   ]
  },
  {
   "cell_type": "code",
   "execution_count": 36,
   "metadata": {},
   "outputs": [
    {
     "data": {
      "text/plain": [
       "'/mnt/d/Lab/16S-Taxa-Phlyo/test_out/mergedSeq_clean.fasta'"
      ]
     },
     "execution_count": 36,
     "metadata": {},
     "output_type": "execute_result"
    }
   ],
   "source": [
    "os.path.join(os.path.split(fasta)[0], \"mergedSeq_clean.fasta\")"
   ]
  },
  {
   "cell_type": "code",
   "execution_count": null,
   "metadata": {},
   "outputs": [],
   "source": []
  },
  {
   "cell_type": "markdown",
   "metadata": {},
   "source": [
    "## Seq import"
   ]
  },
  {
   "cell_type": "code",
   "execution_count": null,
   "metadata": {},
   "outputs": [],
   "source": [
    "IMPORTED_FP = \"seqs.fasta\"\n",
    "TRIMMED_FP  = \"trimmed_seqs.fasta\"\n",
    "MERGED_FP   = \"merged_seqs.fasta\"\n",
    "BLAST_FP    = \"blast_results.txt\""
   ]
  },
  {
   "cell_type": "code",
   "execution_count": 2,
   "metadata": {},
   "outputs": [],
   "source": [
    "import os"
   ]
  },
  {
   "cell_type": "code",
   "execution_count": 1,
   "metadata": {},
   "outputs": [],
   "source": [
    "data = \"/mnt/d/Lab/16S-Taxa-Phlyo/test_data/Success\""
   ]
  },
  {
   "cell_type": "code",
   "execution_count": 9,
   "metadata": {},
   "outputs": [],
   "source": [
    "filenames = []"
   ]
  },
  {
   "cell_type": "code",
   "execution_count": 38,
   "metadata": {},
   "outputs": [],
   "source": [
    "filenames = []\n",
    "Flist = []\n",
    "Rlist = []\n",
    "\n",
    "for file in os.listdir(data):\n",
    "    if \"__27F__\" in file and file.endswith(\".ab1\"):\n",
    "        filename = file.split(\"__27F__\")[0]\n",
    "        filenames.append(filename)\n",
    "        #Fpath = os.path.join(data, file)\n",
    "        #Rpath = os.path.join(data, file[:-10]+\"_[1492R].ab1\")\n",
    "\n",
    "for i in range(len(filenames)):\n",
    "    for file in os.listdir(data):\n",
    "        if filenames[i] in file and file.endswith(\".ab1\"):\n",
    "            if \"__27F__\" in file:\n",
    "                Flist.append(os.path.join(data, file))\n",
    "            elif \"__1492R__\" in file:\n",
    "                Rlist.append(os.path.join(data, file))"
   ]
  },
  {
   "cell_type": "code",
   "execution_count": 39,
   "metadata": {},
   "outputs": [
    {
     "data": {
      "text/plain": [
       "['DA_164', 'DA_24', 'DA_251', 'DA_252']"
      ]
     },
     "execution_count": 39,
     "metadata": {},
     "output_type": "execute_result"
    }
   ],
   "source": [
    "filenames"
   ]
  },
  {
   "cell_type": "code",
   "execution_count": 40,
   "metadata": {},
   "outputs": [
    {
     "data": {
      "text/plain": [
       "['/mnt/d/Lab/16S-Taxa-Phlyo/test_data/Success/DA_164__27F__F03_2009041343G.ab1',\n",
       " '/mnt/d/Lab/16S-Taxa-Phlyo/test_data/Success/DA_24__27F__E03_2009041339G.ab1',\n",
       " '/mnt/d/Lab/16S-Taxa-Phlyo/test_data/Success/DA_251__27F__G03_2009041345G.ab1',\n",
       " '/mnt/d/Lab/16S-Taxa-Phlyo/test_data/Success/DA_252__27F__H03_2009041346G.ab1']"
      ]
     },
     "execution_count": 40,
     "metadata": {},
     "output_type": "execute_result"
    }
   ],
   "source": [
    "Flist"
   ]
  },
  {
   "cell_type": "code",
   "execution_count": 41,
   "metadata": {},
   "outputs": [
    {
     "data": {
      "text/plain": [
       "['/mnt/d/Lab/16S-Taxa-Phlyo/test_data/Success/DA_164__1492R__F06_2009041343G.ab1',\n",
       " '/mnt/d/Lab/16S-Taxa-Phlyo/test_data/Success/DA_24__1492R__E06_2009041339G.ab1',\n",
       " '/mnt/d/Lab/16S-Taxa-Phlyo/test_data/Success/DA_251__1492R__G06_2009041345G.ab1',\n",
       " '/mnt/d/Lab/16S-Taxa-Phlyo/test_data/Success/DA_252__1492R__H06_2009041346G.ab1']"
      ]
     },
     "execution_count": 41,
     "metadata": {},
     "output_type": "execute_result"
    }
   ],
   "source": [
    "Rlist"
   ]
  },
  {
   "cell_type": "code",
   "execution_count": null,
   "metadata": {},
   "outputs": [],
   "source": []
  }
 ],
 "metadata": {
  "kernelspec": {
   "display_name": "Python 3",
   "language": "python",
   "name": "python3"
  },
  "language_info": {
   "codemirror_mode": {
    "name": "ipython",
    "version": 3
   },
   "file_extension": ".py",
   "mimetype": "text/x-python",
   "name": "python",
   "nbconvert_exporter": "python",
   "pygments_lexer": "ipython3",
   "version": "3.8.5"
  }
 },
 "nbformat": 4,
 "nbformat_minor": 4
}
