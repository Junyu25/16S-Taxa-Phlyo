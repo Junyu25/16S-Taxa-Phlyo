{
 "cells": [
  {
   "cell_type": "code",
   "execution_count": 1,
   "metadata": {},
   "outputs": [
    {
     "name": "stdout",
     "output_type": "stream",
     "text": [
      "(qiime2-2020.6) "
     ]
    },
    {
     "ename": "",
     "evalue": "1",
     "output_type": "error",
     "traceback": []
    }
   ],
   "source": [
    "conda activate qiime2-2020.6"
   ]
  },
  {
   "cell_type": "code",
   "execution_count": 2,
   "metadata": {},
   "outputs": [
    {
     "name": "stdout",
     "output_type": "stream",
     "text": [
      "\u001b[32mImported /mnt/d/Lab/TaxaIdentification/16S-out-1.fasta as DNASequencesDirectoryFormat to All-16S.qza\u001b[0m\n",
      "(qiime2-2020.6) "
     ]
    },
    {
     "ename": "",
     "evalue": "1",
     "output_type": "error",
     "traceback": []
    }
   ],
   "source": [
    "qiime tools import \\\n",
    "  --input-path /mnt/d/Lab/TaxaIdentification/16S-out-1.fasta \\\n",
    "  --output-path All-16S.qza \\\n",
    "  --type 'FeatureData[Sequence]'"
   ]
  },
  {
   "cell_type": "code",
   "execution_count": 3,
   "metadata": {},
   "outputs": [
    {
     "name": "stdout",
     "output_type": "stream",
     "text": [
      "/mnt/d/Lab/TaxaIdentification\n",
      "(qiime2-2020.6) "
     ]
    },
    {
     "ename": "",
     "evalue": "1",
     "output_type": "error",
     "traceback": []
    }
   ],
   "source": [
    "pwd"
   ]
  },
  {
   "cell_type": "code",
   "execution_count": 4,
   "metadata": {},
   "outputs": [
    {
     "name": "stdout",
     "output_type": "stream",
     "text": [
      "\u001b[32mUUID\u001b[0m:        56f66b55-e89b-495b-b8ea-1302cad76667\n",
      "\u001b[32mType\u001b[0m:        FeatureData[Sequence]\n",
      "\u001b[32mData format\u001b[0m: DNASequencesDirectoryFormat\n",
      "(qiime2-2020.6) "
     ]
    },
    {
     "ename": "",
     "evalue": "1",
     "output_type": "error",
     "traceback": []
    }
   ],
   "source": [
    "qiime tools peek All-16S.qza"
   ]
  },
  {
   "cell_type": "code",
   "execution_count": 6,
   "metadata": {},
   "outputs": [
    {
     "name": "stdout",
     "output_type": "stream",
     "text": [
      "\u001b[32mUUID\u001b[0m:        a7432d0f-b5f7-409f-9daf-cd33db5de53f\n",
      "\u001b[32mType\u001b[0m:        FeatureData[Sequence]\n",
      "\u001b[32mData format\u001b[0m: DNASequencesDirectoryFormat\n",
      "(qiime2-2020.6) "
     ]
    },
    {
     "ename": "",
     "evalue": "1",
     "output_type": "error",
     "traceback": []
    }
   ],
   "source": [
    "qiime tools peek classifier/silva-138-99-seqs.qza"
   ]
  },
  {
   "cell_type": "code",
   "execution_count": 7,
   "metadata": {},
   "outputs": [
    {
     "name": "stdout",
     "output_type": "stream",
     "text": [
      "\u001b[32mUUID\u001b[0m:        f12818e4-5681-434e-9af7-42b505a701d9\n",
      "\u001b[32mType\u001b[0m:        FeatureData[Taxonomy]\n",
      "\u001b[32mData format\u001b[0m: TSVTaxonomyDirectoryFormat\n",
      "(qiime2-2020.6) "
     ]
    },
    {
     "ename": "",
     "evalue": "1",
     "output_type": "error",
     "traceback": []
    }
   ],
   "source": [
    "qiime tools peek classifier/silva-138-99-tax.qza"
   ]
  },
  {
   "cell_type": "code",
   "execution_count": null,
   "metadata": {},
   "outputs": [],
   "source": [
    "qiime feature-classifier classify-consensus-vsearch \\\n",
    "    --i-query All-16S.qza \\\n",
    "    --i-reference-reads classifier/silva-138-99-seqs.qza \\\n",
    "    --i-reference-taxonomy classifier/silva-138-99-tax.qza \\\n",
    "    --o-classification All-16S-out.qza\n",
    "     --p-threads 8"
   ]
  },
  {
   "cell_type": "code",
   "execution_count": null,
   "metadata": {},
   "outputs": [],
   "source": []
  },
  {
   "cell_type": "code",
   "execution_count": 2,
   "metadata": {},
   "outputs": [
    {
     "name": "stdout",
     "output_type": "stream",
     "text": [
      "\u001b[32mUUID\u001b[0m:        f72f076b-bf55-4829-ba04-bdd1a953f726\n",
      "\u001b[32mType\u001b[0m:        FeatureData[Taxonomy]\n",
      "\u001b[32mData format\u001b[0m: TSVTaxonomyDirectoryFormat\n",
      "(qiime2-2020.6) "
     ]
    },
    {
     "ename": "",
     "evalue": "1",
     "output_type": "error",
     "traceback": []
    }
   ],
   "source": [
    "qiime tools peek All-16S-out.qza"
   ]
  },
  {
   "cell_type": "code",
   "execution_count": null,
   "metadata": {},
   "outputs": [],
   "source": []
  },
  {
   "cell_type": "code",
   "execution_count": 4,
   "metadata": {},
   "outputs": [
    {
     "name": "stdout",
     "output_type": "stream",
     "text": [
      "\u001b[32mSaved Visualization to: All-16S-taxonomy.qzv\u001b[0m\n",
      "(qiime2-2020.6) "
     ]
    },
    {
     "ename": "",
     "evalue": "1",
     "output_type": "error",
     "traceback": []
    }
   ],
   "source": [
    "qiime metadata tabulate \\\n",
    "  --m-input-file All-16S-out.qza \\\n",
    "  --o-visualization All-16S-taxonomy.qzv"
   ]
  },
  {
   "cell_type": "code",
   "execution_count": null,
   "metadata": {},
   "outputs": [],
   "source": [
    "qiime taxa barplot \\\n",
    "  --i-table table.qza \\\n",
    "  --i-taxonomy taxonomy.qza \\\n",
    "  --m-metadata-file sample-metadata.tsv \\\n",
    "  --o-visualization taxa-bar-plots.qzv"
   ]
  },
  {
   "cell_type": "code",
   "execution_count": null,
   "metadata": {},
   "outputs": [],
   "source": []
  },
  {
   "cell_type": "code",
   "execution_count": 3,
   "metadata": {},
   "outputs": [
    {
     "name": "stdout",
     "output_type": "stream",
     "text": [
      "\u001b[32mExported All-16S-out.qza as TSVTaxonomyDirectoryFormat to directory exported-feature-table\u001b[0m\n",
      "(qiime2-2020.6) "
     ]
    },
    {
     "ename": "",
     "evalue": "1",
     "output_type": "error",
     "traceback": []
    }
   ],
   "source": [
    "qiime tools export \\\n",
    "  --input-path All-16S-out.qza \\\n",
    "  --output-path exported-feature-table"
   ]
  },
  {
   "cell_type": "code",
   "execution_count": null,
   "metadata": {},
   "outputs": [],
   "source": []
  },
  {
   "cell_type": "code",
   "execution_count": null,
   "metadata": {},
   "outputs": [],
   "source": []
  },
  {
   "cell_type": "code",
   "execution_count": null,
   "metadata": {},
   "outputs": [],
   "source": []
  },
  {
   "cell_type": "code",
   "execution_count": null,
   "metadata": {},
   "outputs": [],
   "source": []
  }
 ],
 "metadata": {
  "kernelspec": {
   "display_name": "Bash",
   "language": "bash",
   "name": "bash"
  },
  "language_info": {
   "codemirror_mode": "shell",
   "file_extension": ".sh",
   "mimetype": "text/x-sh",
   "name": "bash"
  }
 },
 "nbformat": 4,
 "nbformat_minor": 4
}
